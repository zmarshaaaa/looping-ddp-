{
  "nbformat": 4,
  "nbformat_minor": 0,
  "metadata": {
    "colab": {
      "provenance": []
    },
    "kernelspec": {
      "name": "python3",
      "display_name": "Python 3"
    },
    "language_info": {
      "name": "python"
    }
  },
  "cells": [
    {
      "cell_type": "code",
      "source": [
        "numbers = [951, 402, 984, 651, 360, 69, 408, 319, 601, 485, 980, 507, 725,\n",
        "           547, 544, 615, 83, 165, 141, 501, 263, 617, 865, 575, 219, 390,\n",
        "           984, 592, 236, 105, 942, 941, 386, 462, 47, 418, 907, 344, 236,\n",
        "           375, 823, 566, 597, 978, 328, 615, 953, 345, 399, 162, 758, 219,\n",
        "           918, 237, 412, 566, 826, 248, 866, 950, 626, 949, 687, 217, 815,\n",
        "           67, 104, 58, 512, 24, 892, 894, 767, 553, 81, 379, 843, 831, 445,\n",
        "           742, 717, 958, 609, 842, 451, 688, 753, 854, 685, 93, 857, 440, 380,\n",
        "           126,721, 328, 753, 470, 743, 527]\n",
        "\n",
        "index = 0\n",
        "while index < len(numbers):\n",
        "    if numbers[index] == 553:\n",
        "       break\n",
        "    if numbers[index] % 2 == 1:\n",
        "       print(numbers[index])\n",
        "    index += 1"
      ],
      "metadata": {
        "colab": {
          "base_uri": "https://localhost:8080/"
        },
        "id": "ERBdZ1agn0YG",
        "outputId": "e0a0afdd-71a4-4f01-ed45-00552050a2d1"
      },
      "execution_count": null,
      "outputs": [
        {
          "output_type": "stream",
          "name": "stdout",
          "text": [
            "951\n",
            "651\n",
            "69\n",
            "319\n",
            "601\n",
            "485\n",
            "507\n",
            "725\n",
            "547\n",
            "615\n",
            "83\n",
            "165\n",
            "141\n",
            "501\n",
            "263\n",
            "617\n",
            "865\n",
            "575\n",
            "219\n",
            "105\n",
            "941\n",
            "47\n",
            "907\n",
            "375\n",
            "823\n",
            "597\n",
            "615\n",
            "953\n",
            "345\n",
            "399\n",
            "219\n",
            "237\n",
            "949\n",
            "687\n",
            "217\n",
            "815\n",
            "67\n",
            "767\n"
          ]
        }
      ]
    },
    {
      "cell_type": "code",
      "source": [
        "rows = int(input(\"masukan baris: \"))\n",
        "for i in range(1,rows + 1):\n",
        "    print(i * \"*\")"
      ],
      "metadata": {
        "colab": {
          "base_uri": "https://localhost:8080/"
        },
        "id": "U0lFEmfO5xtU",
        "outputId": "23cb9e7c-49de-4de6-c882-4b180d25e856"
      },
      "execution_count": null,
      "outputs": [
        {
          "output_type": "stream",
          "name": "stdout",
          "text": [
            "masukan baris: 5\n",
            "*\n",
            "**\n",
            "***\n",
            "****\n",
            "*****\n"
          ]
        }
      ]
    }
  ]
}