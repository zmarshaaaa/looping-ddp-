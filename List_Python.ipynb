{
  "nbformat": 4,
  "nbformat_minor": 0,
  "metadata": {
    "colab": {
      "provenance": []
    },
    "kernelspec": {
      "name": "python3",
      "display_name": "Python 3"
    },
    "language_info": {
      "name": "python"
    }
  },
  "cells": [
    {
      "cell_type": "code",
      "execution_count": null,
      "metadata": {
        "colab": {
          "base_uri": "https://localhost:8080/"
        },
        "id": "UdM8usYVYFQH",
        "outputId": "750b914f-4288-4ba7-f937-25e581ac8230"
      },
      "outputs": [
        {
          "output_type": "stream",
          "name": "stdout",
          "text": [
            "['avanza', 'mobil', 'toyota', 1500]\n",
            "['ninja', 'motor', 'kawasaki', 250]\n"
          ]
        }
      ],
      "source": [
        "kendaraan1 = [\"avanza\", \"mobil\", \"toyota\", 1500]\n",
        "kendaraan2 = [\"ninja\", \"motor\", \"kawasaki\", 250]\n",
        "\n",
        "print(kendaraan1)\n",
        "print(kendaraan2)"
      ]
    },
    {
      "cell_type": "code",
      "source": [
        "kendaraan1 = [\"avanza\", \"mobil\", \"toyota\", 1500, \"hitam\", 4, 100000000]\n",
        "kendaraan2 = [\"ninja\", \"motor\", \"kawasaki\", 250, \"merah\", 2, 15000000]\n",
        "\n",
        "print(kendaraan)"
      ],
      "metadata": {
        "colab": {
          "base_uri": "https://localhost:8080/"
        },
        "id": "vBSV_9mfa4NE",
        "outputId": "24132840-1618-4839-a712-53bc31ccc5f7"
      },
      "execution_count": null,
      "outputs": [
        {
          "output_type": "stream",
          "name": "stdout",
          "text": [
            "['avanza', 'mobil', 'toyota', 1500, 'hitam', 4, 100000000]\n"
          ]
        }
      ]
    },
    {
      "cell_type": "code",
      "source": [
        "#3. Buat dengan Match case\n",
        "\n",
        "pesan = \"\"\"\n",
        "menu :\n",
        "1. menghitung luas persegi\n",
        "2. menghitung luas lingkaran\n",
        "3. menghitung luas segitiga\n",
        "pilih menu :\n",
        "\"\"\"\n",
        "\n",
        "pilihan = input(pesan)\n",
        "\n",
        "match pilihan:\n",
        "  case \"1\" :\n",
        "    print (\"kamu memilih 1 untuk menghitung luas persegi\")\n",
        "    sisi = int(input(\"masukan sisi:\"))\n",
        "    luas = sisi * sisi\n",
        "    print (\"luas persegi dengan sisi\", sisi, \"adalah\", luas)\n",
        "\n",
        "  case \"2\" :\n",
        "    print (\"kamu memilih 2 untuk menghitung luas lingkaran\")\n",
        "    jari_jari = int(input(\"masukan jari_jari:\"))\n",
        "    luas = 3.14 * jari_jari **2\n",
        "    print (\"luas lingkaran dengan jari_jari\", jari_jari,\"adalah\",luas)\n",
        "\n",
        "  case \"3\" :\n",
        "    print (\"kamu memilih 3 untuk menghitung luas segitiga\")\n",
        "    alas = int(input(\"masukan alas:\"))\n",
        "    tinggi = int (input(\"masukan tinggi:\"))\n",
        "    luas = 1/2 * alas * tinggi\n",
        "    print (\"luas segitiga dengan alas, tinggi\", alas, tinggi, \"adalah\", luas)"
      ],
      "metadata": {
        "id": "hmc8bES0LIF_"
      },
      "execution_count": null,
      "outputs": []
    }
  ]
}